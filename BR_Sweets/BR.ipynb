{
  "cells": [
    {
      "cell_type": "code",
      "execution_count": 4,
      "metadata": {
        "id": "IX65wSyAPbHd"
      },
      "outputs": [],
      "source": [
        "#Content Based Recommendation System"
      ]
    },
    {
      "cell_type": "code",
      "execution_count": 5,
      "metadata": {
        "id": "sKAS0EzcQuWk"
      },
      "outputs": [],
      "source": [
        "import numpy as np\n",
        "import pandas as pd"
      ]
    },
    {
      "cell_type": "code",
      "execution_count": 6,
      "metadata": {
        "colab": {
          "base_uri": "https://localhost:8080/",
          "height": 191
        },
        "id": "sCnXF44TQz9h",
        "outputId": "de80760b-5ec4-447d-e9c2-25dcfc9962f9"
      },
      "outputs": [
        {
          "data": {
            "text/html": [
              "<div>\n",
              "<style scoped>\n",
              "    .dataframe tbody tr th:only-of-type {\n",
              "        vertical-align: middle;\n",
              "    }\n",
              "\n",
              "    .dataframe tbody tr th {\n",
              "        vertical-align: top;\n",
              "    }\n",
              "\n",
              "    .dataframe thead th {\n",
              "        text-align: right;\n",
              "    }\n",
              "</style>\n",
              "<table border=\"1\" class=\"dataframe\">\n",
              "  <thead>\n",
              "    <tr style=\"text-align: right;\">\n",
              "      <th></th>\n",
              "      <th>name</th>\n",
              "      <th>ingredients</th>\n",
              "      <th>diet</th>\n",
              "      <th>prep_time</th>\n",
              "      <th>cook_time</th>\n",
              "      <th>flavor_profile</th>\n",
              "      <th>course</th>\n",
              "      <th>state</th>\n",
              "      <th>region</th>\n",
              "    </tr>\n",
              "  </thead>\n",
              "  <tbody>\n",
              "    <tr>\n",
              "      <th>110</th>\n",
              "      <td>Panjeeri</td>\n",
              "      <td>Whole wheat flour, musk melon seeds, poppy see...</td>\n",
              "      <td>vegetarian</td>\n",
              "      <td>10</td>\n",
              "      <td>25</td>\n",
              "      <td>sweet</td>\n",
              "      <td>dessert</td>\n",
              "      <td>Uttar Pradesh</td>\n",
              "      <td>NaN</td>\n",
              "    </tr>\n",
              "    <tr>\n",
              "      <th>248</th>\n",
              "      <td>Red Rice</td>\n",
              "      <td>Red pepper, red onion, butter, watercress, oli...</td>\n",
              "      <td>vegetarian</td>\n",
              "      <td>-1</td>\n",
              "      <td>-1</td>\n",
              "      <td>-1</td>\n",
              "      <td>main course</td>\n",
              "      <td>-1</td>\n",
              "      <td>-1</td>\n",
              "    </tr>\n",
              "  </tbody>\n",
              "</table>\n",
              "</div>"
            ],
            "text/plain": [
              "         name                                        ingredients        diet  \\\n",
              "110  Panjeeri  Whole wheat flour, musk melon seeds, poppy see...  vegetarian   \n",
              "248  Red Rice  Red pepper, red onion, butter, watercress, oli...  vegetarian   \n",
              "\n",
              "     prep_time  cook_time flavor_profile       course          state region  \n",
              "110         10         25          sweet      dessert  Uttar Pradesh    NaN  \n",
              "248         -1         -1             -1  main course             -1     -1  "
            ]
          },
          "execution_count": 6,
          "metadata": {},
          "output_type": "execute_result"
        }
      ],
      "source": [
        "df = pd.read_csv(\"/content/indian_food.csv\")\n",
        "df.sample(2)"
      ]
    },
    {
      "cell_type": "code",
      "execution_count": 7,
      "metadata": {
        "id": "G9NsOIjBQ8wU"
      },
      "outputs": [],
      "source": [
        "df.drop(columns=['prep_time','cook_time','course'],inplace= True)"
      ]
    },
    {
      "cell_type": "code",
      "execution_count": 8,
      "metadata": {
        "colab": {
          "base_uri": "https://localhost:8080/",
          "height": 112
        },
        "id": "dChJPTjRWbxl",
        "outputId": "fd36e131-0b99-48f6-f9d3-3415396341d5"
      },
      "outputs": [
        {
          "data": {
            "text/html": [
              "<div>\n",
              "<style scoped>\n",
              "    .dataframe tbody tr th:only-of-type {\n",
              "        vertical-align: middle;\n",
              "    }\n",
              "\n",
              "    .dataframe tbody tr th {\n",
              "        vertical-align: top;\n",
              "    }\n",
              "\n",
              "    .dataframe thead th {\n",
              "        text-align: right;\n",
              "    }\n",
              "</style>\n",
              "<table border=\"1\" class=\"dataframe\">\n",
              "  <thead>\n",
              "    <tr style=\"text-align: right;\">\n",
              "      <th></th>\n",
              "      <th>name</th>\n",
              "      <th>ingredients</th>\n",
              "      <th>diet</th>\n",
              "      <th>flavor_profile</th>\n",
              "      <th>state</th>\n",
              "      <th>region</th>\n",
              "    </tr>\n",
              "  </thead>\n",
              "  <tbody>\n",
              "    <tr>\n",
              "      <th>165</th>\n",
              "      <td>Amti</td>\n",
              "      <td>Kala masala, arhar dal, curry leaves, mustard ...</td>\n",
              "      <td>vegetarian</td>\n",
              "      <td>spicy</td>\n",
              "      <td>Maharashtra</td>\n",
              "      <td>West</td>\n",
              "    </tr>\n",
              "    <tr>\n",
              "      <th>78</th>\n",
              "      <td>Chapati</td>\n",
              "      <td>Whole wheat flour, olive oil, hot water, all p...</td>\n",
              "      <td>vegetarian</td>\n",
              "      <td>-1</td>\n",
              "      <td>Maharashtra</td>\n",
              "      <td>West</td>\n",
              "    </tr>\n",
              "  </tbody>\n",
              "</table>\n",
              "</div>"
            ],
            "text/plain": [
              "        name                                        ingredients        diet  \\\n",
              "165     Amti  Kala masala, arhar dal, curry leaves, mustard ...  vegetarian   \n",
              "78   Chapati  Whole wheat flour, olive oil, hot water, all p...  vegetarian   \n",
              "\n",
              "    flavor_profile        state region  \n",
              "165          spicy  Maharashtra   West  \n",
              "78              -1  Maharashtra   West  "
            ]
          },
          "execution_count": 8,
          "metadata": {},
          "output_type": "execute_result"
        }
      ],
      "source": [
        "df.sample(2)"
      ]
    },
    {
      "cell_type": "code",
      "execution_count": 9,
      "metadata": {
        "colab": {
          "base_uri": "https://localhost:8080/",
          "height": 142
        },
        "id": "ZhgUd3SjXAtA",
        "outputId": "2a593e9d-2621-40c1-c572-f0c4025d994c"
      },
      "outputs": [
        {
          "data": {
            "text/html": [
              "<div>\n",
              "<style scoped>\n",
              "    .dataframe tbody tr th:only-of-type {\n",
              "        vertical-align: middle;\n",
              "    }\n",
              "\n",
              "    .dataframe tbody tr th {\n",
              "        vertical-align: top;\n",
              "    }\n",
              "\n",
              "    .dataframe thead th {\n",
              "        text-align: right;\n",
              "    }\n",
              "</style>\n",
              "<table border=\"1\" class=\"dataframe\">\n",
              "  <thead>\n",
              "    <tr style=\"text-align: right;\">\n",
              "      <th></th>\n",
              "      <th>name</th>\n",
              "      <th>ingredients</th>\n",
              "      <th>diet</th>\n",
              "      <th>flavor_profile</th>\n",
              "      <th>state</th>\n",
              "      <th>region</th>\n",
              "      <th>tags</th>\n",
              "    </tr>\n",
              "  </thead>\n",
              "  <tbody>\n",
              "    <tr>\n",
              "      <th>143</th>\n",
              "      <td>Kuzhambu</td>\n",
              "      <td>Pearl onions, urad dal, drumsticks, tomato, cu...</td>\n",
              "      <td>vegetarian</td>\n",
              "      <td>spicy</td>\n",
              "      <td>Tamil Nadu</td>\n",
              "      <td>South</td>\n",
              "      <td>Pearl onions, urad dal, drumsticks, tomato, cu...</td>\n",
              "    </tr>\n",
              "  </tbody>\n",
              "</table>\n",
              "</div>"
            ],
            "text/plain": [
              "         name                                        ingredients        diet  \\\n",
              "143  Kuzhambu  Pearl onions, urad dal, drumsticks, tomato, cu...  vegetarian   \n",
              "\n",
              "    flavor_profile       state region  \\\n",
              "143          spicy  Tamil Nadu  South   \n",
              "\n",
              "                                                  tags  \n",
              "143  Pearl onions, urad dal, drumsticks, tomato, cu...  "
            ]
          },
          "execution_count": 9,
          "metadata": {},
          "output_type": "execute_result"
        }
      ],
      "source": [
        "df['tags']= df['ingredients'] + df['diet']+ df['flavor_profile'] +df['state'] +df['region']\n",
        "df.sample()"
      ]
    },
    {
      "cell_type": "code",
      "execution_count": 10,
      "metadata": {
        "id": "Gyv1p-QrXYlV"
      },
      "outputs": [],
      "source": [
        "df.drop(columns=['ingredients', 'diet', 'flavor_profile','state', 'region'], inplace=True)"
      ]
    },
    {
      "cell_type": "code",
      "execution_count": 11,
      "metadata": {
        "colab": {
          "base_uri": "https://localhost:8080/",
          "height": 81
        },
        "id": "Bzq-6w55XpnT",
        "outputId": "ffbe3a99-ac91-4233-8165-f095c514132c"
      },
      "outputs": [
        {
          "data": {
            "text/html": [
              "<div>\n",
              "<style scoped>\n",
              "    .dataframe tbody tr th:only-of-type {\n",
              "        vertical-align: middle;\n",
              "    }\n",
              "\n",
              "    .dataframe tbody tr th {\n",
              "        vertical-align: top;\n",
              "    }\n",
              "\n",
              "    .dataframe thead th {\n",
              "        text-align: right;\n",
              "    }\n",
              "</style>\n",
              "<table border=\"1\" class=\"dataframe\">\n",
              "  <thead>\n",
              "    <tr style=\"text-align: right;\">\n",
              "      <th></th>\n",
              "      <th>name</th>\n",
              "      <th>tags</th>\n",
              "    </tr>\n",
              "  </thead>\n",
              "  <tbody>\n",
              "    <tr>\n",
              "      <th>111</th>\n",
              "      <td>Papad</td>\n",
              "      <td>Urad dal, sev, lemon juice, chopped tomatoesve...</td>\n",
              "    </tr>\n",
              "  </tbody>\n",
              "</table>\n",
              "</div>"
            ],
            "text/plain": [
              "      name                                               tags\n",
              "111  Papad  Urad dal, sev, lemon juice, chopped tomatoesve..."
            ]
          },
          "execution_count": 11,
          "metadata": {},
          "output_type": "execute_result"
        }
      ],
      "source": [
        "df.sample()"
      ]
    },
    {
      "cell_type": "code",
      "execution_count": 12,
      "metadata": {
        "id": "-Wmm3T2xZakj"
      },
      "outputs": [],
      "source": [
        "df['tags'] = df['tags'].astype(str)"
      ]
    },
    {
      "cell_type": "code",
      "execution_count": 13,
      "metadata": {
        "id": "M16Lg8qfdLap"
      },
      "outputs": [],
      "source": [
        "df['tags'] = df['tags'].apply(lambda x: x.lower())"
      ]
    },
    {
      "cell_type": "code",
      "execution_count": 14,
      "metadata": {
        "colab": {
          "base_uri": "https://localhost:8080/",
          "height": 206
        },
        "id": "Qh3Wa0ymdWO4",
        "outputId": "b15917b8-6aae-496a-9cc0-d0349c5eac45"
      },
      "outputs": [
        {
          "data": {
            "text/html": [
              "<div>\n",
              "<style scoped>\n",
              "    .dataframe tbody tr th:only-of-type {\n",
              "        vertical-align: middle;\n",
              "    }\n",
              "\n",
              "    .dataframe tbody tr th {\n",
              "        vertical-align: top;\n",
              "    }\n",
              "\n",
              "    .dataframe thead th {\n",
              "        text-align: right;\n",
              "    }\n",
              "</style>\n",
              "<table border=\"1\" class=\"dataframe\">\n",
              "  <thead>\n",
              "    <tr style=\"text-align: right;\">\n",
              "      <th></th>\n",
              "      <th>name</th>\n",
              "      <th>tags</th>\n",
              "    </tr>\n",
              "  </thead>\n",
              "  <tbody>\n",
              "    <tr>\n",
              "      <th>22</th>\n",
              "      <td>Chhena poda</td>\n",
              "      <td>sugar, chenna cheesevegetariansweetodishaeast</td>\n",
              "    </tr>\n",
              "    <tr>\n",
              "      <th>4</th>\n",
              "      <td>Gulab jamun</td>\n",
              "      <td>milk powder, plain flour, baking powder, ghee,...</td>\n",
              "    </tr>\n",
              "    <tr>\n",
              "      <th>234</th>\n",
              "      <td>Hando Guri</td>\n",
              "      <td>jaggery, raisinsvegetariansweetassamnorth east</td>\n",
              "    </tr>\n",
              "    <tr>\n",
              "      <th>223</th>\n",
              "      <td>Kumol Sawul</td>\n",
              "      <td>rice, eggs, carrot, beetrootnon vegetarianspic...</td>\n",
              "    </tr>\n",
              "    <tr>\n",
              "      <th>26</th>\n",
              "      <td>Lyangcha</td>\n",
              "      <td>flour, fried milk power, sugar syrupvegetarian...</td>\n",
              "    </tr>\n",
              "  </tbody>\n",
              "</table>\n",
              "</div>"
            ],
            "text/plain": [
              "            name                                               tags\n",
              "22   Chhena poda      sugar, chenna cheesevegetariansweetodishaeast\n",
              "4    Gulab jamun  milk powder, plain flour, baking powder, ghee,...\n",
              "234   Hando Guri     jaggery, raisinsvegetariansweetassamnorth east\n",
              "223  Kumol Sawul  rice, eggs, carrot, beetrootnon vegetarianspic...\n",
              "26      Lyangcha  flour, fried milk power, sugar syrupvegetarian..."
            ]
          },
          "execution_count": 14,
          "metadata": {},
          "output_type": "execute_result"
        }
      ],
      "source": [
        "df.sample(5)"
      ]
    },
    {
      "cell_type": "markdown",
      "metadata": {
        "id": "jhdqzaDyegi7"
      },
      "source": [
        "**Text Vectorization**"
      ]
    },
    {
      "cell_type": "code",
      "execution_count": 15,
      "metadata": {
        "id": "lDwX_ymDdZh3"
      },
      "outputs": [],
      "source": [
        "from sklearn.feature_extraction.text import CountVectorizer \n",
        "obj = CountVectorizer(max_features=1000)  # give max_features ... and remove stop_words if any... here we have no stop_words..."
      ]
    },
    {
      "cell_type": "code",
      "execution_count": 16,
      "metadata": {
        "id": "xwp1l107evZ4"
      },
      "outputs": [],
      "source": [
        "vectors = obj.fit_transform(df['tags']).toarray()"
      ]
    },
    {
      "cell_type": "code",
      "execution_count": 17,
      "metadata": {
        "colab": {
          "base_uri": "https://localhost:8080/"
        },
        "id": "ImIq2iDMe1Tn",
        "outputId": "59b075e4-a8c6-432a-deaf-27b58eeeea76"
      },
      "outputs": [
        {
          "data": {
            "text/plain": [
              "array([0, 0, 0, 0, 0, 0, 0, 0, 0, 0, 0, 0, 0, 0, 0, 0, 0, 0, 0, 0, 0, 0,\n",
              "       0, 0, 0, 0, 0, 0, 0, 0, 0, 0, 0, 0, 0, 0, 0, 0, 0, 0, 0, 0, 0, 0,\n",
              "       0, 0, 0, 0, 0, 0, 1, 0, 0, 0, 0, 0, 0, 0, 0, 0, 0, 0, 0, 0, 0, 0,\n",
              "       0, 0, 0, 0, 0, 0, 0, 0, 0, 0, 0, 0, 0, 0, 0, 0, 0, 0, 0, 0, 0, 0,\n",
              "       0, 0, 0, 0, 0, 0, 0, 0, 0, 0, 0, 0, 0, 0, 0, 0, 0, 0, 0, 0, 0, 0,\n",
              "       0, 0, 0, 0, 0, 0, 0, 0, 0, 0, 0, 0, 0, 0, 0, 0, 0, 0, 0, 0, 0, 0,\n",
              "       0, 0, 0, 0, 0, 0, 0, 0, 0, 0, 0, 0, 0, 0, 0, 0, 0, 0, 0, 0, 0, 0,\n",
              "       0, 0, 0, 0, 0, 0, 0, 0, 0, 0, 0, 0, 0, 0, 0, 0, 0, 0, 0, 0, 0, 0,\n",
              "       0, 0, 0, 0, 0, 0, 0, 0, 0, 0, 0, 0, 0, 1, 0, 0, 0, 0, 0, 0, 0, 0,\n",
              "       0, 0, 0, 0, 0, 0, 0, 0, 0, 0, 0, 0, 0, 0, 0, 0, 0, 0, 0, 0, 0, 0,\n",
              "       0, 0, 0, 0, 0, 0, 0, 0, 0, 0, 0, 0, 0, 0, 0, 0, 0, 0, 0, 0, 0, 0,\n",
              "       0, 0, 0, 0, 0, 0, 0, 0, 0, 0, 0, 0, 0, 0, 0, 0, 0, 0, 0, 0, 0, 0,\n",
              "       0, 0, 0, 0, 0, 0, 0, 0, 0, 0, 0, 0, 0, 0, 0, 0, 0, 0, 0, 0, 0, 0,\n",
              "       0, 0, 0, 0, 0, 0, 0, 0, 1, 0, 0, 0, 0, 0, 0, 0, 0, 0, 0, 0, 0, 0,\n",
              "       0, 0, 0, 0, 0, 0, 0, 0, 0, 0, 0, 0, 0, 0, 0, 0, 0, 0, 0, 0, 0, 0,\n",
              "       0, 0, 0, 0, 0, 0, 0, 0, 0, 0, 1, 0, 0, 0, 0, 0, 0, 0, 0, 0, 0, 0,\n",
              "       0, 0, 0, 0, 0, 0, 0, 0, 0, 0, 0, 0, 0, 0, 0, 0, 0, 0, 0, 0, 0, 0,\n",
              "       0, 0, 0, 0, 0, 0, 0, 0, 0, 0, 0, 0, 0, 0, 0, 0, 0, 0, 0, 0, 0, 0,\n",
              "       0, 0, 0, 0, 0, 0, 0, 0, 0, 0, 0, 0, 0, 0, 0, 0, 0, 0, 0, 0, 0, 0,\n",
              "       0, 0, 0, 0, 0, 0, 0, 0, 0, 0, 0, 0, 0, 0, 0, 0, 0, 0, 0, 0, 0, 0,\n",
              "       0, 0, 0, 0, 0, 0, 0, 0, 0, 0, 0, 0, 0, 0, 0, 0, 0, 0, 0, 0, 0, 0,\n",
              "       0, 0, 0, 0, 0, 0, 0, 0, 0, 0, 0, 0, 0, 0, 0, 0, 0, 0, 0, 0, 0, 0,\n",
              "       0, 0, 0, 0, 0, 0, 0, 0, 0, 1, 0, 0, 0, 0, 0, 0, 0, 0, 0, 0, 0, 0,\n",
              "       0, 0, 0, 0, 0, 0, 0, 0, 0, 0, 0, 0, 0, 0, 0, 0, 0, 0, 0, 0, 0, 0,\n",
              "       0, 0, 0, 0, 0, 0, 0, 0, 0, 0, 0, 0, 0, 0, 0, 0, 0, 0, 0, 0, 0, 0,\n",
              "       0, 0, 0, 0, 0, 1, 0], dtype=int64)"
            ]
          },
          "execution_count": 17,
          "metadata": {},
          "output_type": "execute_result"
        }
      ],
      "source": [
        "vectors[0]"
      ]
    },
    {
      "cell_type": "code",
      "execution_count": 18,
      "metadata": {
        "colab": {
          "base_uri": "https://localhost:8080/"
        },
        "id": "2T3VBe5ge3_x",
        "outputId": "04f4b126-7a8c-414f-e155-a8a19e79e8cd"
      },
      "outputs": [
        {
          "name": "stderr",
          "output_type": "stream",
          "text": [
            "c:\\Python\\Python310\\lib\\site-packages\\sklearn\\utils\\deprecation.py:87: FutureWarning: Function get_feature_names is deprecated; get_feature_names is deprecated in 1.0 and will be removed in 1.2. Please use get_feature_names_out instead.\n",
            "  warnings.warn(msg, category=FutureWarning)\n"
          ]
        },
        {
          "data": {
            "text/plain": [
              "['1assamnorth',\n",
              " '1gujaratwest',\n",
              " '1karnatakasouth',\n",
              " '1keralasouth',\n",
              " '1maharashtrawest',\n",
              " '1manipurnorth',\n",
              " '1north',\n",
              " '1odishaeast',\n",
              " '1punjabnorth',\n",
              " '1south',\n",
              " '1tamil',\n",
              " '1west',\n",
              " 'acid',\n",
              " 'all',\n",
              " 'almonds',\n",
              " 'almondsvegetariansweetgujaratwest',\n",
              " 'almondsvegetariansweettelanganasouth',\n",
              " 'almondvegetarianspicyrajasthanwest',\n",
              " 'aloo',\n",
              " 'alum',\n",
              " 'amaranth',\n",
              " 'amchur',\n",
              " 'and',\n",
              " 'anise',\n",
              " 'anisevegetarianspicygujaratwest',\n",
              " 'apricots',\n",
              " 'arbi',\n",
              " 'arhar',\n",
              " 'arrowroot',\n",
              " 'atta',\n",
              " 'avocado',\n",
              " 'axone',\n",
              " 'baby',\n",
              " 'badam',\n",
              " 'badamvegetariansweetjammu',\n",
              " 'bags',\n",
              " 'baingan',\n",
              " 'baking',\n",
              " 'bamboo',\n",
              " 'banana',\n",
              " 'basmati',\n",
              " 'bay',\n",
              " 'bean',\n",
              " 'beans',\n",
              " 'beansvegetarianspicykarnatakasouth',\n",
              " 'beaten',\n",
              " 'beef',\n",
              " 'beetrootnon',\n",
              " 'bell',\n",
              " 'bengal',\n",
              " 'bengaleast',\n",
              " 'besan',\n",
              " 'bhaji',\n",
              " 'bhatura',\n",
              " 'bhuna',\n",
              " 'biryani',\n",
              " 'bitter',\n",
              " 'black',\n",
              " 'blend',\n",
              " 'boiled',\n",
              " 'bombay',\n",
              " 'boondi',\n",
              " 'bottle',\n",
              " 'bread',\n",
              " 'breasts',\n",
              " 'brinjal',\n",
              " 'brinjalvegetarianspicywest',\n",
              " 'brown',\n",
              " 'buffalo',\n",
              " 'butter',\n",
              " 'butternon',\n",
              " 'buttervegetarianspicy',\n",
              " 'buttervegetarianspicypunjabnorth',\n",
              " 'buttervegetariansweetgujaratwest',\n",
              " 'buttervegetariansweetmaharashtrawest',\n",
              " 'cabbage',\n",
              " 'canned',\n",
              " 'capsicumvegetarianspicypunjabnorth',\n",
              " 'cardamom',\n",
              " 'cardamomvegetariansweet',\n",
              " 'cardamomvegetariansweetkarnatakasouth',\n",
              " 'cardamomvegetariansweetmaharashtrawest',\n",
              " 'cardamomvegetariansweetmanipurnorth',\n",
              " 'cardamomvegetariansweetodishaeast',\n",
              " 'cardamomvegetariansweetrajasthanwest',\n",
              " 'cardamomvegetariansweetuttar',\n",
              " 'cardamomvegetariansweetwest',\n",
              " 'carrot',\n",
              " 'carrots',\n",
              " 'carrotvegetarianspicypunjabnorth',\n",
              " 'cashew',\n",
              " 'cashews',\n",
              " 'cashewsvegetariansweetmaharashtrawest',\n",
              " 'cauliflower',\n",
              " 'chana',\n",
              " 'cheese',\n",
              " 'cheesevegetariansweetodishaeast',\n",
              " 'chenna',\n",
              " 'chhena',\n",
              " 'chia',\n",
              " 'chicken',\n",
              " 'chickpea',\n",
              " 'chickpeas',\n",
              " 'chili',\n",
              " 'chilies',\n",
              " 'chiliesnon',\n",
              " 'chiliesvegetarianspicypunjabnorth',\n",
              " 'chilinon',\n",
              " 'chilivegetarianspicy',\n",
              " 'chilivegetarianspicygujaratwest',\n",
              " 'chilivegetarianspicymaharashtrawest',\n",
              " 'chilivegetarianspicytamil',\n",
              " 'chilli',\n",
              " 'chillies',\n",
              " 'chilliesnon',\n",
              " 'chilliesvegetarianspicy',\n",
              " 'chilliesvegetarianspicyuttar',\n",
              " 'chillivegetarian',\n",
              " 'chillivegetarianspicyandhra',\n",
              " 'chillivegetarianspicybiharnorth',\n",
              " 'chillivegetarianspicymaharashtrawest',\n",
              " 'chole',\n",
              " 'chopped',\n",
              " 'chunks',\n",
              " 'chutney',\n",
              " 'cilantrovegetarianspicymaharashtrawest',\n",
              " 'cinnamon',\n",
              " 'cinnamonnon',\n",
              " 'cinnamonvegetarianspicypunjabnorth',\n",
              " 'citric',\n",
              " 'clarified',\n",
              " 'coconut',\n",
              " 'coconutvegetarian',\n",
              " 'coconutvegetarianspicymaharashtrawest',\n",
              " 'coconutvegetarianspicytamil',\n",
              " 'coconutvegetariansweetandhra',\n",
              " 'coconutvegetariansweettamil',\n",
              " 'coloring',\n",
              " 'condensed',\n",
              " 'cooked',\n",
              " 'coriandervegetarian',\n",
              " 'coriandervegetarianspicypunjabnorth',\n",
              " 'corn',\n",
              " 'cottage',\n",
              " 'cream',\n",
              " 'crumbs',\n",
              " 'cucumber',\n",
              " 'curd',\n",
              " 'curdvegetariansweetwest',\n",
              " 'curry',\n",
              " 'daal',\n",
              " 'daalvegetarianspicygujaratwest',\n",
              " 'dahi',\n",
              " 'dal',\n",
              " 'dalvegetarianspicygujaratwest',\n",
              " 'dalvegetarianspicykeralasouth',\n",
              " 'dates',\n",
              " 'delhinorth',\n",
              " 'desiccated',\n",
              " 'dharwadi',\n",
              " 'dinner',\n",
              " 'dough',\n",
              " 'doughvegetarianspicy',\n",
              " 'dried',\n",
              " 'drumstick',\n",
              " 'drumsticks',\n",
              " 'dry',\n",
              " 'duck',\n",
              " 'east',\n",
              " 'edible',\n",
              " 'egg',\n",
              " 'eggnon',\n",
              " 'eggplant',\n",
              " 'eggs',\n",
              " 'elachivegetariansweetwest',\n",
              " 'elephant',\n",
              " 'falooda',\n",
              " 'fat',\n",
              " 'fennel',\n",
              " 'fenugreek',\n",
              " 'fermented',\n",
              " 'fillet',\n",
              " 'fillets',\n",
              " 'filling',\n",
              " 'finger',\n",
              " 'firm',\n",
              " 'fish',\n",
              " 'flakes',\n",
              " 'flakesvegetariansweetwest',\n",
              " 'flour',\n",
              " 'flourvegetarian',\n",
              " 'flourvegetarianbittergujaratwest',\n",
              " 'flourvegetarianspicyandhra',\n",
              " 'flourvegetarianspicygujaratwest',\n",
              " 'flourvegetarianspicyrajasthanwest',\n",
              " 'flourvegetarianspicywest',\n",
              " 'flourvegetariansweetassamnorth',\n",
              " 'flourvegetariansweetgoawest',\n",
              " 'flourvegetariansweetmadhya',\n",
              " 'flourvegetariansweetwest',\n",
              " 'flower',\n",
              " 'flowers',\n",
              " 'food',\n",
              " 'foot',\n",
              " 'forbidden',\n",
              " 'french',\n",
              " 'fresh',\n",
              " 'fried',\n",
              " 'frozen',\n",
              " 'fruits',\n",
              " 'fruitsvegetariansweet',\n",
              " 'fruitsvegetariansweetgujaratwest',\n",
              " 'fruitsvegetariansweetuttar',\n",
              " 'fry',\n",
              " 'garam',\n",
              " 'garlic',\n",
              " 'garlicnon',\n",
              " 'garlicvegetarian',\n",
              " 'garlicvegetarianspicygujaratwest',\n",
              " 'garlicvegetarianspicypunjabnorth',\n",
              " 'ghee',\n",
              " 'gheevegetariansweetandhra',\n",
              " 'gheevegetariansweetkarnatakasouth',\n",
              " 'gheevegetariansweetmaharashtrawest',\n",
              " 'gheevegetariansweetodishaeast',\n",
              " 'gheevegetariansweettamil',\n",
              " 'gheevegetariansweetwest',\n",
              " 'ginger',\n",
              " 'gingernon',\n",
              " 'gingervegetarianspicypunjabnorth',\n",
              " 'glutinous',\n",
              " 'gobi',\n",
              " 'gooseberry',\n",
              " 'gourd',\n",
              " 'gram',\n",
              " 'grated',\n",
              " 'gravy',\n",
              " 'greek',\n",
              " 'green',\n",
              " 'greens',\n",
              " 'gum',\n",
              " 'gur',\n",
              " 'gurvegetariansweetassamnorth',\n",
              " 'gurvegetariansweetrajasthanwest',\n",
              " 'heavy',\n",
              " 'honey',\n",
              " 'hot',\n",
              " 'ice',\n",
              " 'idli',\n",
              " 'imlivegetarianspicygujaratwest',\n",
              " 'imlivegetarianspicyrajasthanwest',\n",
              " 'jaggery',\n",
              " 'jaggeryvegetariansweetandhra',\n",
              " 'jaggeryvegetariansweetmaharashtrawest',\n",
              " 'jaggeryvegetariansweetwest',\n",
              " 'jeera',\n",
              " 'jowar',\n",
              " 'juice',\n",
              " 'juicenon',\n",
              " 'juicevegetarianspicykarnatakasouth',\n",
              " 'juicevegetarianspicymaharashtrawest',\n",
              " 'kala',\n",
              " 'kashmirnorth',\n",
              " 'kasuri',\n",
              " 'ke',\n",
              " 'kewra',\n",
              " 'khaman',\n",
              " 'khoa',\n",
              " 'khus',\n",
              " 'kidney',\n",
              " 'kitchen',\n",
              " 'kokum',\n",
              " 'ladies',\n",
              " 'lamb',\n",
              " 'leaf',\n",
              " 'leafnon',\n",
              " 'leafvegetariansweetuttarakhandnorth',\n",
              " 'leaves',\n",
              " 'leavesvegetarian',\n",
              " 'leavesvegetarianbittergujaratwest',\n",
              " 'leavesvegetarianspicyharyananorth',\n",
              " 'leavesvegetarianspicymaharashtrawest',\n",
              " 'leavesvegetarianspicypunjabnorth',\n",
              " 'leavesvegetarianspicytamil',\n",
              " 'lemon',\n",
              " 'lemonvegetarianspicy',\n",
              " 'lentil',\n",
              " 'lentils',\n",
              " 'lime',\n",
              " 'litre',\n",
              " 'loaf',\n",
              " 'lobster',\n",
              " 'long',\n",
              " 'low',\n",
              " 'maida',\n",
              " 'makki',\n",
              " 'malai',\n",
              " 'malvani',\n",
              " 'mango',\n",
              " 'marinade',\n",
              " 'masala',\n",
              " 'masalanon',\n",
              " 'masalavegetarianspicyuttar',\n",
              " 'mashed',\n",
              " 'masoor',\n",
              " 'mawa',\n",
              " 'meat',\n",
              " 'methi',\n",
              " 'methivegetarianspicypunjabnorth',\n",
              " 'milk',\n",
              " 'milkvegetarianspicykeralasouth',\n",
              " 'milkvegetariansweetandhra',\n",
              " 'milkvegetariansweetgujaratwest',\n",
              " 'milkvegetariansweetkarnatakasouth',\n",
              " 'milkvegetariansweetmaharashtrawest',\n",
              " 'milkvegetariansweetodishaeast',\n",
              " 'milkvegetariansweettelanganasouth',\n",
              " 'millet',\n",
              " 'mint',\n",
              " 'mirch',\n",
              " 'mixed',\n",
              " 'molu',\n",
              " 'moong',\n",
              " 'mung',\n",
              " 'mushroom',\n",
              " 'mushrooms',\n",
              " 'mustard',\n",
              " 'mustardvegetarianspicytamil',\n",
              " 'mutton',\n",
              " 'naan',\n",
              " 'nadusouth',\n",
              " 'nan',\n",
              " 'nestle',\n",
              " 'nigella',\n",
              " 'nuts',\n",
              " 'nutsvegetarianspicypunjabnorth',\n",
              " 'nutsvegetariansweetgujaratwest',\n",
              " 'nutsvegetariansweetodishaeast',\n",
              " 'nutsvegetariansweetuttar',\n",
              " 'of',\n",
              " 'oil',\n",
              " 'oilnon',\n",
              " 'oilvegetarian',\n",
              " 'oilvegetarianbitterpunjabnorth',\n",
              " 'oilvegetarianspicy',\n",
              " 'oilvegetarianspicyassamnorth',\n",
              " 'oilvegetarianspicybiharnorth',\n",
              " 'oilvegetarianspicygujaratwest',\n",
              " 'oilvegetarianspicykeralasouth',\n",
              " 'oilvegetarianspicypunjabnorth',\n",
              " 'oilvegetarianspicytamil',\n",
              " 'olive',\n",
              " 'onion',\n",
              " 'onionnon',\n",
              " 'onions',\n",
              " 'orange',\n",
              " 'palak',\n",
              " 'panch',\n",
              " 'paneer',\n",
              " 'papaya',\n",
              " 'papdi',\n",
              " 'parboiled',\n",
              " 'paste',\n",
              " 'patte',\n",
              " 'pav',\n",
              " 'peanut',\n",
              " 'peanuts',\n",
              " 'pearl',\n",
              " 'peas',\n",
              " 'peasvegetarianspicygujaratwest',\n",
              " 'peasvegetarianspicytamil',\n",
              " 'pepper',\n",
              " 'peppernon',\n",
              " 'peppers',\n",
              " 'peppervegetarian',\n",
              " 'peppervegetarianspicy',\n",
              " 'peppervegetarianspicypunjabnorth',\n",
              " 'petals',\n",
              " 'phoran',\n",
              " 'pigeon',\n",
              " 'pistachio',\n",
              " 'pistachiovegetariansweetwest',\n",
              " 'plain',\n",
              " 'podsvegetariansweetassamnorth',\n",
              " 'poha',\n",
              " 'pohavegetarianspicy',\n",
              " 'pomegranate',\n",
              " 'pork',\n",
              " 'porknon',\n",
              " 'potato',\n",
              " 'potatoes',\n",
              " 'potatoesvegetarianspicygujaratwest',\n",
              " 'potol',\n",
              " 'powder',\n",
              " 'powdered',\n",
              " 'powdernon',\n",
              " 'powdervegetarianbitterpunjabnorth',\n",
              " 'powdervegetarianspicychhattisgarhcentral',\n",
              " 'powdervegetarianspicypunjabnorth',\n",
              " 'powdervegetarianspicyuttar',\n",
              " 'powdervegetariansweetgoawest',\n",
              " 'powdervegetariansweetpunjabnorth',\n",
              " 'powdervegetariansweetuttar',\n",
              " 'power',\n",
              " 'pradeshcentral',\n",
              " 'pradeshnorth',\n",
              " 'pradeshsouth',\n",
              " 'prawns',\n",
              " 'pudding',\n",
              " 'pumpkin',\n",
              " 'purpose',\n",
              " 'raisins',\n",
              " 'raisinsvegetariansweetassamnorth',\n",
              " 'raisinsvegetariansweetpunjabnorth',\n",
              " 'raisinsvegetariansweetwest',\n",
              " 'rapeseed',\n",
              " 'rava',\n",
              " 'ravavegetariansweetmaharashtrawest',\n",
              " 'raw',\n",
              " 'red',\n",
              " 'reduced',\n",
              " 'refined',\n",
              " 'rice',\n",
              " 'ricevegetarian',\n",
              " 'ricevegetariansweetkeralasouth',\n",
              " 'ridge',\n",
              " 'rindvegetariansweetassamnorth',\n",
              " 'roasted',\n",
              " 'roastedvegetarianspicymadhya',\n",
              " 'rock',\n",
              " 'roe',\n",
              " 'rollsvegetarianspicymaharashtrawest',\n",
              " 'rose',\n",
              " 'sabudana',\n",
              " 'saffron',\n",
              " 'saffronnon',\n",
              " 'saffronvegetariansweetgujaratwest',\n",
              " 'salt',\n",
              " 'saltvegetarian',\n",
              " 'saltvegetarianspicy',\n",
              " 'saltvegetarianspicygujaratwest',\n",
              " 'saltvegetarianspicypunjabnorth',\n",
              " 'sambar',\n",
              " 'sattu',\n",
              " 'sauce',\n",
              " 'seed',\n",
              " 'seeds',\n",
              " 'seedsvegetarian',\n",
              " 'seedsvegetarianspicyassamnorth',\n",
              " 'seedsvegetarianspicymaharashtrawest',\n",
              " 'seedsvegetarianspicytamil',\n",
              " 'seedsvegetarianspicyuttar',\n",
              " 'seedsvegetariansweetbiharnorth',\n",
              " 'seedsvegetariansweetmaharashtrawest',\n",
              " 'semolina',\n",
              " 'semolinavegetariansweetandhra',\n",
              " 'semolinavegetariansweetmaharashtrawest',\n",
              " 'sesame',\n",
              " 'sesamevegetarianspicygujaratwest',\n",
              " 'sev',\n",
              " 'sevai',\n",
              " 'shimla',\n",
              " 'shoot',\n",
              " 'skimmed',\n",
              " 'skinless',\n",
              " 'sliced',\n",
              " 'slices',\n",
              " 'slivered',\n",
              " 'soaked',\n",
              " 'soda',\n",
              " 'sodavegetarianspicypunjabnorth',\n",
              " 'soojivegetarianspicygujaratwest',\n",
              " 'sorghum',\n",
              " 'soy',\n",
              " 'spices',\n",
              " 'spinach',\n",
              " 'spinachvegetarianspicytamil',\n",
              " 'split',\n",
              " 'star',\n",
              " 'steamervegetarian',\n",
              " 'sticknon',\n",
              " 'stickvegetarianspicypunjabnorth',\n",
              " 'sticky',\n",
              " 'sugar',\n",
              " 'sugarnon',\n",
              " 'sugarvegetariansourgujaratwest',\n",
              " 'sugarvegetarianspicy',\n",
              " 'sugarvegetarianspicygujaratwest',\n",
              " 'sugarvegetariansweet',\n",
              " 'sugarvegetariansweetandhra',\n",
              " 'sugarvegetariansweetmaharashtrawest',\n",
              " 'sugarvegetariansweetpunjabnorth',\n",
              " 'sugarvegetariansweetrajasthanwest',\n",
              " 'sugarvegetariansweetwest',\n",
              " 'sunflower',\n",
              " 'surti',\n",
              " 'sweet',\n",
              " 'sweetened',\n",
              " 'syrup',\n",
              " 'syrupvegetariansweetassamnorth',\n",
              " 'syrupvegetariansweettelanganasouth',\n",
              " 'tamarind',\n",
              " 'tamarindvegetarian',\n",
              " 'tamarindvegetarianspicy',\n",
              " 'tandoori',\n",
              " 'tea',\n",
              " 'thick',\n",
              " 'thighs',\n",
              " 'thin',\n",
              " 'tindora',\n",
              " 'tomato',\n",
              " 'tomatoes',\n",
              " 'tomatoesvegetarianspicy',\n",
              " 'tomatoesvegetarianspicyjammu',\n",
              " 'tomatoesvegetarianspicypunjabnorth',\n",
              " 'tomatonon',\n",
              " 'tomatovegetarianspicypunjabnorth',\n",
              " 'tomatovegetarianspicytamil',\n",
              " 'toor',\n",
              " 'turmeric',\n",
              " 'turmericvegetarianspicymaharashtrawest',\n",
              " 'urad',\n",
              " 'valor',\n",
              " 'vegetable',\n",
              " 'vegetables',\n",
              " 'vegetarian',\n",
              " 'vegetarianspicyassamnorth',\n",
              " 'vegetarianspicygoawest',\n",
              " 'vegetarianspicykeralasouth',\n",
              " 'vegetarianspicymaharashtrawest',\n",
              " 'vegetarianspicynagalandnorth',\n",
              " 'vegetarianspicynct',\n",
              " 'vegetarianspicypunjabnorth',\n",
              " 'vegetarianspicytamil',\n",
              " 'vegetarianspicytelanganasouth',\n",
              " 'vegetarianspicytripuranorth',\n",
              " 'vegetarianspicywest',\n",
              " 'vegetariansweetmaharashtrawest',\n",
              " 'vermicelli',\n",
              " 'vinegar',\n",
              " 'water',\n",
              " 'watercress',\n",
              " 'watervegetarianspicy',\n",
              " 'watervegetarianspicygujaratwest',\n",
              " 'watervegetarianspicymaharashtrawest',\n",
              " 'watervegetariansweetwest',\n",
              " 'wheat',\n",
              " 'whipping',\n",
              " 'white',\n",
              " 'whole',\n",
              " 'wild',\n",
              " 'wine',\n",
              " 'yam',\n",
              " 'yellow',\n",
              " 'yoghurt',\n",
              " 'yogurt',\n",
              " 'yolks']"
            ]
          },
          "execution_count": 18,
          "metadata": {},
          "output_type": "execute_result"
        }
      ],
      "source": [
        "obj.get_feature_names()"
      ]
    },
    {
      "cell_type": "code",
      "execution_count": 19,
      "metadata": {
        "colab": {
          "base_uri": "https://localhost:8080/"
        },
        "id": "_13IJjJ6e-FU",
        "outputId": "ea22f734-9373-49fe-bcbb-3198c173b3f2"
      },
      "outputs": [
        {
          "name": "stdout",
          "output_type": "stream",
          "text": [
            "Note: you may need to restart the kernel to use updated packages.\n"
          ]
        },
        {
          "name": "stderr",
          "output_type": "stream",
          "text": [
            "WARNING: Ignoring invalid distribution -ip (c:\\python\\python310\\lib\\site-packages)\n",
            "WARNING: Ignoring invalid distribution -ip (c:\\python\\python310\\lib\\site-packages)\n",
            "WARNING: Ignoring invalid distribution -ip (c:\\python\\python310\\lib\\site-packages)\n",
            "WARNING: Ignoring invalid distribution -ip (c:\\python\\python310\\lib\\site-packages)\n",
            "WARNING: Ignoring invalid distribution -ip (c:\\python\\python310\\lib\\site-packages)\n",
            "WARNING: Ignoring invalid distribution -ip (c:\\python\\python310\\lib\\site-packages)\n"
          ]
        },
        {
          "name": "stdout",
          "output_type": "stream",
          "text": [
            "Requirement already satisfied: nltk in c:\\python\\python310\\lib\\site-packages (3.7)\n",
            "Requirement already satisfied: joblib in c:\\python\\python310\\lib\\site-packages (from nltk) (1.1.0)\n",
            "Requirement already satisfied: tqdm in c:\\python\\python310\\lib\\site-packages (from nltk) (4.64.0)\n",
            "Requirement already satisfied: click in c:\\python\\python310\\lib\\site-packages (from nltk) (8.1.3)\n",
            "Requirement already satisfied: regex>=2021.8.3 in c:\\python\\python310\\lib\\site-packages (from nltk) (2022.7.25)\n",
            "Requirement already satisfied: colorama in c:\\python\\python310\\lib\\site-packages (from click->nltk) (0.4.4)\n"
          ]
        }
      ],
      "source": [
        "pip install nltk"
      ]
    },
    {
      "cell_type": "code",
      "execution_count": 20,
      "metadata": {
        "id": "nozc33X1fGst"
      },
      "outputs": [],
      "source": [
        "import nltk \n",
        "from nltk.stem.porter import PorterStemmer\n",
        "ps = PorterStemmer()   # eg ['loved','love','loving']..."
      ]
    },
    {
      "cell_type": "code",
      "execution_count": 21,
      "metadata": {
        "id": "lLeiBEyafLfs"
      },
      "outputs": [],
      "source": [
        "def stem(text):\n",
        "  y = []\n",
        "  for i in text.split(','):\n",
        "    y.append(ps.stem(i))\n",
        "  return \" \".join(y)  "
      ]
    },
    {
      "cell_type": "code",
      "execution_count": 22,
      "metadata": {
        "colab": {
          "base_uri": "https://localhost:8080/",
          "height": 35
        },
        "id": "h7mqwGaVfTGN",
        "outputId": "11568f93-ac27-475e-b0f6-8709ad234fd7"
      },
      "outputs": [
        {
          "data": {
            "text/plain": [
              "'jaggeri'"
            ]
          },
          "execution_count": 22,
          "metadata": {},
          "output_type": "execute_result"
        }
      ],
      "source": [
        "stem('jaggery')"
      ]
    },
    {
      "cell_type": "code",
      "execution_count": 23,
      "metadata": {
        "id": "BL6LrB-WgFvD"
      },
      "outputs": [],
      "source": [
        "df['tags']= df['tags'].apply(stem) "
      ]
    },
    {
      "cell_type": "code",
      "execution_count": 24,
      "metadata": {
        "colab": {
          "base_uri": "https://localhost:8080/",
          "height": 35
        },
        "id": "FsYtTbGOglOW",
        "outputId": "c1f52a35-aedb-445e-a345-02ebe452f0b7"
      },
      "outputs": [
        {
          "data": {
            "text/plain": [
              "'yogurt  milk  nut  sugarvegetariansweetpunjabnorth'"
            ]
          },
          "execution_count": 24,
          "metadata": {},
          "output_type": "execute_result"
        }
      ],
      "source": [
        "df['tags'][11]"
      ]
    },
    {
      "cell_type": "code",
      "execution_count": 25,
      "metadata": {
        "colab": {
          "base_uri": "https://localhost:8080/",
          "height": 35
        },
        "id": "6uZbs83Hh2BO",
        "outputId": "c1adef10-0b34-424e-e672-79ed09635a6c"
      },
      "outputs": [
        {
          "data": {
            "text/plain": [
              "'yogurt  milk  nut  sugarvegetariansweetpunjabnorth'"
            ]
          },
          "execution_count": 25,
          "metadata": {},
          "output_type": "execute_result"
        }
      ],
      "source": [
        "stem('yogurt, milk, nuts, sugarvegetariansweetpunjabnorth')"
      ]
    },
    {
      "cell_type": "markdown",
      "metadata": {
        "id": "ikTlpIifl5nE"
      },
      "source": [
        "**Now calculate distance between Sweets**\n",
        "**Using Cosine Distance **\n",
        "\n",
        "> \n"
      ]
    },
    {
      "cell_type": "code",
      "execution_count": 26,
      "metadata": {
        "id": "HGFC-U_aixyO"
      },
      "outputs": [],
      "source": [
        "from sklearn.metrics.pairwise import cosine_similarity "
      ]
    },
    {
      "cell_type": "code",
      "execution_count": 27,
      "metadata": {
        "colab": {
          "base_uri": "https://localhost:8080/"
        },
        "id": "reTJGMfFmBv4",
        "outputId": "5a727839-6f54-407d-9e97-12cdd5c5f376"
      },
      "outputs": [
        {
          "data": {
            "text/plain": [
              "array([[1.        , 0.20412415, 0.        , ..., 0.        , 0.        ,\n",
              "        0.        ],\n",
              "       [0.20412415, 1.        , 0.20412415, ..., 0.        , 0.        ,\n",
              "        0.        ],\n",
              "       [0.        , 0.20412415, 1.        , ..., 0.        , 0.11785113,\n",
              "        0.        ],\n",
              "       ...,\n",
              "       [0.        , 0.        , 0.        , ..., 1.        , 0.09128709,\n",
              "        0.        ],\n",
              "       [0.        , 0.        , 0.11785113, ..., 0.09128709, 1.        ,\n",
              "        0.        ],\n",
              "       [0.        , 0.        , 0.        , ..., 0.        , 0.        ,\n",
              "        1.        ]])"
            ]
          },
          "execution_count": 27,
          "metadata": {},
          "output_type": "execute_result"
        }
      ],
      "source": [
        "cosine_similarity(vectors)"
      ]
    },
    {
      "cell_type": "code",
      "execution_count": 28,
      "metadata": {
        "colab": {
          "base_uri": "https://localhost:8080/"
        },
        "id": "HQUoZzPamMTy",
        "outputId": "a21a50f1-205d-42b0-816a-1dee25b1e741"
      },
      "outputs": [
        {
          "data": {
            "text/plain": [
              "(255, 255)"
            ]
          },
          "execution_count": 28,
          "metadata": {},
          "output_type": "execute_result"
        }
      ],
      "source": [
        "similarity= cosine_similarity(vectors)\n",
        "similarity.shape"
      ]
    },
    {
      "cell_type": "code",
      "execution_count": 31,
      "metadata": {
        "id": "FksU6t_kmY7S"
      },
      "outputs": [],
      "source": [
        "def recommend(food):\n",
        "  food_index = df[df['name'] == food].index[0]\n",
        "  distances = similarity[food_index]\n",
        "  food_list = sorted(list(enumerate(distances)), reverse=True, key= lambda x:x[1])[0:6]\n",
        "  for i in food_list:\n",
        "    print(df.iloc[i[0]][0])\n"
      ]
    },
    {
      "cell_type": "code",
      "execution_count": 32,
      "metadata": {
        "colab": {
          "base_uri": "https://localhost:8080/"
        },
        "id": "A2V2dAZtoQR1",
        "outputId": "d05c2141-a990-4869-da95-6416cb7aaf43"
      },
      "outputs": [
        {
          "name": "stdout",
          "output_type": "stream",
          "text": [
            "Veg Kolhapuri\n",
            "Anarsa\n",
            "Navrattan korma\n",
            "Churma Ladoo\n",
            "Kootu\n",
            "Paratha\n"
          ]
        }
      ],
      "source": [
        "recommend('Veg Kolhapuri')"
      ]
    },
    {
      "cell_type": "code",
      "execution_count": null,
      "metadata": {
        "id": "6PY6ZKr-o4x0"
      },
      "outputs": [],
      "source": []
    }
  ],
  "metadata": {
    "colab": {
      "name": "IndianFood.ipynb",
      "provenance": []
    },
    "kernelspec": {
      "display_name": "Python 3.10.4 64-bit",
      "language": "python",
      "name": "python3"
    },
    "language_info": {
      "codemirror_mode": {
        "name": "ipython",
        "version": 3
      },
      "file_extension": ".py",
      "mimetype": "text/x-python",
      "name": "python",
      "nbconvert_exporter": "python",
      "pygments_lexer": "ipython3",
      "version": "3.10.4"
    },
    "vscode": {
      "interpreter": {
        "hash": "d3e10ef16274dd72e574b8fa73b58450b957d8421a2901baded3cca26fcf5dda"
      }
    }
  },
  "nbformat": 4,
  "nbformat_minor": 0
}
